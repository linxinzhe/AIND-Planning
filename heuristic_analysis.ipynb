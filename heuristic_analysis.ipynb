{
 "cells": [
  {
   "cell_type": "markdown",
   "metadata": {
    "collapsed": true,
    "deletable": true,
    "editable": true
   },
   "source": [
    "# Heuristic Analysis"
   ]
  },
  {
   "cell_type": "markdown",
   "metadata": {},
   "source": [
    "## Optimal Plan\n",
    "### Air Cargo Problem 1\n",
    "Load(C1, P1, SFO)  \n",
    "Load(C2, P2, JFK)  \n",
    "Fly(P1, SFO, JFK)  \n",
    "Fly(P2, JFK, SFO)  \n",
    "Unload(C1, P1, JFK)  \n",
    "Unload(C2, P2, SFO)  \n",
    "### Air Cargo Problem 2\n",
    "Load(C1, P1, SFO)  \n",
    "Load(C2, P2, JFK)  \n",
    "Load(C3, P3, ATL)  \n",
    "Fly(P1, SFO, JFK)  \n",
    "Fly(P2, JFK, SFO)  \n",
    "Fly(P3, ATL, SFO)  \n",
    "Unload(C1, P1, JFK)  \n",
    "Unload(C2, P2, SFO)  \n",
    "Unload(C3, P3, SFO)  \n",
    "### Air Cargo Problem 3\n",
    "Load(C1, P1, SFO)  \n",
    "Load(C2, P2, JFK)  \n",
    "Fly(P1, SFO, ATL)  \n",
    "Load(C3, P1, ATL)  \n",
    "Fly(P2, JFK, ORD)  \n",
    "Load(C4, P2, ORD)  \n",
    "Fly(P2, ORD, SFO)  \n",
    "Fly(P1, ATL, JFK)  \n",
    "Unload(C1, P1, JFK)  \n",
    "Unload(C2, P2, SFO)  \n",
    "Unload(C3, P1, JFK)  \n",
    "Unload(C4, P2, SFO)  "
   ]
  },
  {
   "cell_type": "markdown",
   "metadata": {},
   "source": [
    "## Raw Data\n",
    "|Air Cargo Problem 1|uniform_cost_graph_search|breadth_first_graph_search|depth_first_graph_search|\n",
    "|-------------------|-------------------------|--------------------------|------------------------|\n",
    "|Expansions         |55                       |43                        |12                      |\n",
    "|Goal Tests         |57                       |56                        |13                      |\n",
    "|New Nodes          |224                      |180                       |48                      |\n",
    "|Time Elapsed       |0.05726813792716712      |0.03135633503552526       |0.01813720096834004     |\n",
    "|Plan Length        |6                        |6                         |12                      |\n",
    "\n",
    "|Air Cargo Problem 2|uniform_cost_graph_search|breadth_first_graph_search|depth_first_graph_search|\n",
    "|-------------------|-------------------------|--------------------------|------------------------|\n",
    "|Expansions         |4853                     |3343                      |582                     |\n",
    "|Goal Tests         |4855                     |4609                      |583                     |\n",
    "|New Nodes          |44041                    |30509                     |5211                    |\n",
    "|Time Elapsed       |17.179727443959564       |17.76466659794096         |5.575963828945532        |\n",
    "|Plan Length        |9                        |9                         |575                     |\n",
    "\n",
    "|Air Cargo Problem 3|uniform_cost_graph_search|breadth_first_graph_search|depth_first_graph_search|\n",
    "|-------------------|-------------------------|--------------------------|------------------------|\n",
    "|Expansions         |18151                    |14663                     |627                     |\n",
    "|Goal Tests         |18153                    |18098                     |628                     |\n",
    "|New Nodes          |159038                   |129631                    |5176                    |\n",
    "|Time Elapsed       |59.015274920035154       |124.94671371090226        |3.7411767470184714      |\n",
    "|Plan Length        |12                       |12                        |596                     |"
   ]
  },
  {
   "cell_type": "markdown",
   "metadata": {},
   "source": [
    "## Compare and Contrast Non-heuristic Search Result Metrics \n",
    "\n",
    "\n",
    "|All Air Cargo Problem|uniform_cost_graph_search|breadth_first_graph_search|depth_first_graph_search|\n",
    "|---------------------|-------------------------|--------------------------|------------------------|\n",
    "|Expansions           |Large                    |Large                     |Small                   |\n",
    "|Time Elapsed         |Median                   |Long                      |Short                   |\n",
    "|Optimality           |Yes                      |Yes                       |No                      |\n",
    "\n",
    "Athough all non-heuristic search finally find the solution, their length of solution are quiet different. Depth first search(DFS)'s is much larger than others. In real world, its solution is obviously intolerant, which means it is not optimal for air cargo problems. But it is worthy to note that according to the raw data, DFS can find out a solution much faster than others and it has the smallest momery requirments because it has the least expansions.  \n",
    "As for breadth first search(BFS) and uniform cost search(UCS), they are optimal and produce shortest plan. Futhermore, compared with the average of time elapsed, UCS is the best non-heuristic to solve these kind of air cargo problems. "
   ]
  },
  {
   "cell_type": "markdown",
   "metadata": {},
   "source": [
    "## Compare and Contrast Heuristic Search Result Metrics"
   ]
  },
  {
   "cell_type": "markdown",
   "metadata": {},
   "source": [
    "#### What was the best heuristic used in these problems? \n",
    "#### Was it better than non-heuristic search planning methods for all problems? \n",
    "#### Why or why not?"
   ]
  },
  {
   "cell_type": "code",
   "execution_count": null,
   "metadata": {
    "collapsed": true
   },
   "outputs": [],
   "source": [
    ""
   ]
  }
 ],
 "metadata": {
  "kernelspec": {
   "display_name": "Python 3",
   "language": "python",
   "name": "python3"
  },
  "language_info": {
   "codemirror_mode": {
    "name": "ipython",
    "version": 3.0
   },
   "file_extension": ".py",
   "mimetype": "text/x-python",
   "name": "python",
   "nbconvert_exporter": "python",
   "pygments_lexer": "ipython3",
   "version": "3.6.0"
  }
 },
 "nbformat": 4,
 "nbformat_minor": 0
}