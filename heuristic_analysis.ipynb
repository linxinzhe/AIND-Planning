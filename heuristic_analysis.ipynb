{
 "cells": [
  {
   "cell_type": "markdown",
   "metadata": {
    "collapsed": true,
    "deletable": true,
    "editable": true
   },
   "source": [
    "# Heuristic Analysis"
   ]
  },
  {
   "cell_type": "markdown",
   "metadata": {
    "deletable": true,
    "editable": true
   },
   "source": [
    "## Optimal Plan\n",
    "### Air Cargo Problem 1\n",
    "Load(C1, P1, SFO)  \n",
    "Load(C2, P2, JFK)  \n",
    "Fly(P1, SFO, JFK)  \n",
    "Fly(P2, JFK, SFO)  \n",
    "Unload(C1, P1, JFK)  \n",
    "Unload(C2, P2, SFO)  \n",
    "### Air Cargo Problem 2\n",
    "Load(C1, P1, SFO)  \n",
    "Load(C2, P2, JFK)  \n",
    "Load(C3, P3, ATL)  \n",
    "Fly(P1, SFO, JFK)  \n",
    "Fly(P2, JFK, SFO)  \n",
    "Fly(P3, ATL, SFO)  \n",
    "Unload(C1, P1, JFK)  \n",
    "Unload(C2, P2, SFO)  \n",
    "Unload(C3, P3, SFO)  \n",
    "### Air Cargo Problem 3\n",
    "Load(C1, P1, SFO)  \n",
    "Load(C2, P2, JFK)  \n",
    "Fly(P1, SFO, ATL)  \n",
    "Load(C3, P1, ATL)  \n",
    "Fly(P2, JFK, ORD)  \n",
    "Load(C4, P2, ORD)  \n",
    "Fly(P2, ORD, SFO)  \n",
    "Fly(P1, ATL, JFK)  \n",
    "Unload(C1, P1, JFK)  \n",
    "Unload(C2, P2, SFO)  \n",
    "Unload(C3, P1, JFK)  \n",
    "Unload(C4, P2, SFO)  "
   ]
  },
  {
   "cell_type": "markdown",
   "metadata": {
    "deletable": true,
    "editable": true
   },
   "source": [
    "## Raw Data\n",
    "|Air Cargo Problem 1                |Expansions|Goal Tests|New Nodes|Time Elapsed       |Plan Length|\n",
    "|-----------------------------------|----------|----------|---------|-------------------|-----------|\n",
    "|uniform_cost_graph_search          |55        |57        |224      |0.05726813792716712|6          |\n",
    "|breadth_first_graph_search         |43        |56        |180      |0.03135633503552526|6          |\n",
    "|depth_first_graph_search           |12        |13        |48       |0.01813720096834004|12         |\n",
    "|astar_search_h_ignore_preconditions|41        |43        |170      |0.03671667599701322|6          |\n",
    "|astar_search_h_pg_levelsum         |11        |13        |50       |0.5377221890084911 |6          |\n",
    "\n",
    "|Air Cargo Problem 2                |Expansions|Goal Tests|New Nodes|Time Elapsed       |Plan Length|\n",
    "|-----------------------------------|----------|----------|---------|-------------------|-----------|\n",
    "|uniform_cost_graph_search          |4853      |4855      |44041    |17.179727443959564 |9          |\n",
    "|breadth_first_graph_search         |3343      |4609      |30509    |17.76466659794096  |9          |\n",
    "|depth_first_graph_search           |582       |583       |5211     |5.575963828945532  |575        |\n",
    "|astar_search_h_ignore_preconditions|1450      |1452      |13303    |4.635786358994665  |9          |\n",
    "|astar_search_h_pg_levelsum         |86        |88        |841      |51.386474351005745 |9          |\n",
    "\n",
    "|Air Cargo Problem 3                |Expansions|Goal Tests|New Nodes|Time Elapsed       |Plan Length|\n",
    "|-----------------------------------|----------|----------|---------|-------------------|-----------|\n",
    "|uniform_cost_graph_search          |18151     |18153     |159038   |59.015274920035154 |12         |\n",
    "|breadth_first_graph_search         |14663     |18098     |129631   |124.94671371090226 |12         |\n",
    "|depth_first_graph_search           |627       |628       |5176     |3.7411767470184714 |596        |\n",
    "|astar_search_h_ignore_preconditions|5038      |5040      |44926    |19.484844123988296 |12         |\n",
    "|astar_search_h_pg_levelsum         |314       |316       |2894     |247.7471174020029  |12         |\n"
   ]
  },
  {
   "cell_type": "markdown",
   "metadata": {
    "deletable": true,
    "editable": true
   },
   "source": [
    "## Compare and Contrast Non-heuristic Search Result Metrics \n",
    "\n",
    "\n",
    "|All Air Cargo Problem     |Expansions|Time Elapsed|Optimality|\n",
    "|--------------------------|----------|------------|----------|\n",
    "|uniform_cost_graph_search |Large     |Median      |Yes       |\n",
    "|breadth_first_graph_search|Large     |Long        |Yes       |\n",
    "|depth_first_graph_search  |Small     |Short       |No        |\n",
    "\n",
    "Athough all non-heuristic search finally find the solution, their length of solution are quiet different. Depth first search(DFS)'s is much larger than others. In real world, its solution is obviously intolerant, which means it is not optimal for air cargo problems. But it is worthy to note that according to the raw data, DFS can find out a solution much faster than others and it has the smallest momery requirments because it has the least expansions.  \n",
    "As for breadth first search(BFS) and uniform cost search(UCS), they are optimal and produce shortest plan. Futhermore, compared with the average of time elapsed, UCS is the best non-heuristic to solve these kind of air cargo problems. "
   ]
  },
  {
   "cell_type": "markdown",
   "metadata": {
    "deletable": true,
    "editable": true
   },
   "source": [
    "## Compare and Contrast Heuristic Search Result Metrics\n",
    "\n"
   ]
  },
  {
   "cell_type": "markdown",
   "metadata": {
    "deletable": true,
    "editable": true
   },
   "source": [
    "#### What was the best heuristic used in these problems? \n",
    "#### Was it better than non-heuristic search planning methods for all problems? \n",
    "#### Why or why not?"
   ]
  },
  {
   "cell_type": "code",
   "execution_count": null,
   "metadata": {
    "collapsed": true,
    "deletable": true,
    "editable": true
   },
   "outputs": [],
   "source": []
  }
 ],
 "metadata": {
  "kernelspec": {
   "display_name": "Python 3",
   "language": "python",
   "name": "python3"
  },
  "language_info": {
   "codemirror_mode": {
    "name": "ipython",
    "version": 3
   },
   "file_extension": ".py",
   "mimetype": "text/x-python",
   "name": "python",
   "nbconvert_exporter": "python",
   "pygments_lexer": "ipython3",
   "version": "3.6.0"
  }
 },
 "nbformat": 4,
 "nbformat_minor": 0
}
