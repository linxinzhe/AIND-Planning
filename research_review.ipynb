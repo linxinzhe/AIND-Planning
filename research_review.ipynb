{
 "cells": [
  {
   "cell_type": "markdown",
   "metadata": {},
   "source": [
    "# Research View"
   ]
  },
  {
   "cell_type": "markdown",
   "metadata": {},
   "source": [
    "## STRIPS\n",
    "STRIPS (Stanford Research Institute Problem Solver) is the first automated planner(Richard Fikes and Nils Nilsson, 1971) to illustrate the interaction of state-space search, theorem proving, and control theory. Its overall control structure was modeled on that of GPS, the General Problem Solver (Newell and Simon, 1961), a state-space search system that used means–ends analysis.  \n",
    "It impacted on the field of AI because it was the first one to describe the formal language of the inputs to this planner. This language is the base for most of the languages for expressing automated planning problem instances in use today including the Action Description Language, or ADL (Pednault, 1986) and the Problem Domain Description Language, or PDDL (Ghallab et al., 1998)."
   ]
  },
  {
   "cell_type": "markdown",
   "metadata": {},
   "source": [
    "## Partial-Order Planning\n"
   ]
  },
  {
   "cell_type": "markdown",
   "metadata": {},
   "source": [
    "Partial-order planning is an approach to automated planning that leaves decisions about the ordering of actions as open as possible. Partial-order planning is a way to improve planning effciency by avoiding \"premature\n",
    "commitments to a particular order for achieving subgoals\"(Sacerdoti, E. ,1975).  \n",
    "Partial-order planning impacted on the field of AI in the next 20 years of research. The first clear formal exposition was TWEAK (Chapman, 1987). Chapman described of a complete partial-order planner (McAllester and Rosenblitt, 1991), then to the widely distributed implementations SNLP (Soderland and Weld, 1991) and UCPOP (Penberthy and Weld, 1992)."
   ]
  },
  {
   "cell_type": "markdown",
   "metadata": {},
   "source": [
    "## GRAPHPLAN\n",
    "Graphplan is an algorithm for automated planning. It encodes the planning problem in such a way that many useful constraints inherent in the problem become explicitly available to reduce the amount of search needed.(Avrim Blum and Merrick Furst, 1995) It then produces, if one is possible, a sequence of operations for reaching a goal state.   \n",
    "Graphplan revitalized the field of planning which was orders of magnitude faster than the partial-order planners of the time.(Norvig and Russell in 2010)"
   ]
  },
  {
   "cell_type": "markdown",
   "metadata": {},
   "source": []
  }
 ],
 "metadata": {
  "kernelspec": {
   "display_name": "Python 3",
   "language": "python",
   "name": "python3"
  },
  "language_info": {
   "codemirror_mode": {
    "name": "ipython",
    "version": 3
   },
   "file_extension": ".py",
   "mimetype": "text/x-python",
   "name": "python",
   "nbconvert_exporter": "python",
   "pygments_lexer": "ipython3",
   "version": "3.6.0"
  }
 },
 "nbformat": 4,
 "nbformat_minor": 2
}
